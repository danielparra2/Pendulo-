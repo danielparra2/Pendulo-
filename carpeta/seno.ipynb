{
 "cells": [
  {
   "cell_type": "code",
   "execution_count": 111,
   "metadata": {},
   "outputs": [],
   "source": [
    "import numpy as np\n",
    "import matplotlib.pyplot as plt\n",
    "import astropy \n",
    "import math"
   ]
  },
  {
   "cell_type": "code",
   "execution_count": 112,
   "metadata": {},
   "outputs": [],
   "source": [
    "def m(x):\n",
    "    r = math.sin(x)\n",
    "    return r"
   ]
  },
  {
   "cell_type": "code",
   "execution_count": 125,
   "metadata": {},
   "outputs": [],
   "source": [
    "d = np.arange(1,20,0.5)"
   ]
  },
  {
   "cell_type": "code",
   "execution_count": 126,
   "metadata": {},
   "outputs": [],
   "source": [
    "def n(d):\n",
    " rtd = d * math.pi/180\n",
    " return rtd "
   ]
  },
  {
   "cell_type": "code",
   "execution_count": 127,
   "metadata": {},
   "outputs": [],
   "source": [
    "r = n(d)"
   ]
  },
  {
   "cell_type": "code",
   "execution_count": 128,
   "metadata": {},
   "outputs": [
    {
     "data": {
      "text/plain": [
       "array([0.01745329, 0.02617994, 0.03490659, 0.04363323, 0.05235988,\n",
       "       0.06108652, 0.06981317, 0.07853982, 0.08726646, 0.09599311,\n",
       "       0.10471976, 0.1134464 , 0.12217305, 0.13089969, 0.13962634,\n",
       "       0.14835299, 0.15707963, 0.16580628, 0.17453293, 0.18325957,\n",
       "       0.19198622, 0.20071286, 0.20943951, 0.21816616, 0.2268928 ,\n",
       "       0.23561945, 0.2443461 , 0.25307274, 0.26179939, 0.27052603,\n",
       "       0.27925268, 0.28797933, 0.29670597, 0.30543262, 0.31415927,\n",
       "       0.32288591, 0.33161256, 0.3403392 ])"
      ]
     },
     "execution_count": 128,
     "metadata": {},
     "output_type": "execute_result"
    }
   ],
   "source": [
    "r"
   ]
  },
  {
   "cell_type": "code",
   "execution_count": 129,
   "metadata": {},
   "outputs": [],
   "source": [
    "r = n(d)\n",
    "i = []\n",
    "for T in r:\n",
    "    a = m(T)\n",
    "    i.append(a)"
   ]
  },
  {
   "cell_type": "code",
   "execution_count": 130,
   "metadata": {},
   "outputs": [
    {
     "data": {
      "text/plain": [
       "38"
      ]
     },
     "execution_count": 130,
     "metadata": {},
     "output_type": "execute_result"
    }
   ],
   "source": [
    "np.size(r)"
   ]
  },
  {
   "cell_type": "code",
   "execution_count": 131,
   "metadata": {},
   "outputs": [],
   "source": [
    "bh = i[0:37]"
   ]
  },
  {
   "cell_type": "code",
   "execution_count": 132,
   "metadata": {},
   "outputs": [],
   "source": [
    "final = bh/r[0:37]"
   ]
  },
  {
   "cell_type": "code",
   "execution_count": 133,
   "metadata": {},
   "outputs": [
    {
     "data": {
      "text/plain": [
       "array([0.99994923, 0.99988577, 0.99979693, 0.99968272, 0.99954314,\n",
       "       0.99937819, 0.99918788, 0.99897223, 0.99873124, 0.99846493,\n",
       "       0.9981733 , 0.99785637, 0.99751415, 0.99714666, 0.99675391,\n",
       "       0.99633593, 0.99589274, 0.99542434, 0.99493077, 0.99441205,\n",
       "       0.99386819, 0.99329924, 0.9927052 , 0.99208611, 0.991442  ,\n",
       "       0.9907729 , 0.99007883, 0.98935983, 0.98861593, 0.98784717,\n",
       "       0.98705357, 0.98623519, 0.98539204, 0.98452418, 0.98363164,\n",
       "       0.98271447, 0.98177269])"
      ]
     },
     "execution_count": 133,
     "metadata": {},
     "output_type": "execute_result"
    }
   ],
   "source": [
    "final"
   ]
  },
  {
   "cell_type": "code",
   "execution_count": 134,
   "metadata": {},
   "outputs": [
    {
     "data": {
      "text/plain": [
       "37"
      ]
     },
     "execution_count": 134,
     "metadata": {},
     "output_type": "execute_result"
    }
   ],
   "source": [
    "np.size(final)"
   ]
  },
  {
   "cell_type": "code",
   "execution_count": null,
   "metadata": {},
   "outputs": [],
   "source": []
  }
 ],
 "metadata": {
  "interpreter": {
   "hash": "8da01e5a71448ea74f54d88afa8911010d1d12e23bc7e103d40d5def4a09152c"
  },
  "kernelspec": {
   "display_name": "Python 3",
   "language": "python",
   "name": "python3"
  },
  "language_info": {
   "codemirror_mode": {
    "name": "ipython",
    "version": 3
   },
   "file_extension": ".py",
   "mimetype": "text/x-python",
   "name": "python",
   "nbconvert_exporter": "python",
   "pygments_lexer": "ipython3",
   "version": "3.8.8"
  }
 },
 "nbformat": 4,
 "nbformat_minor": 2
}
